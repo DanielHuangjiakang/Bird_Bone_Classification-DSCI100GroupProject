{
 "cells": [
  {
   "cell_type": "markdown",
   "id": "7070a68b-c2f6-4e45-877a-cf12a5ef475e",
   "metadata": {},
   "source": [
    "# DATA SCIENCE 100: Group 128 Project Report\n",
    "##### Jiakang Huang, Cameron Seymour, Nav Thukral, Shirley Chen\n",
    "##### Date: December 6th, 2022\n",
    " "
   ]
  },
  {
   "cell_type": "markdown",
   "id": "351e35ab-9b55-44be-9702-083dd5953bd6",
   "metadata": {},
   "source": [
    "## Load the R packages"
   ]
  },
  {
   "cell_type": "code",
   "execution_count": 3,
   "id": "3bd30587-293e-4005-b1eb-3cac05b9866a",
   "metadata": {},
   "outputs": [],
   "source": [
    "# Use the library function to load the R packages\n",
    "library(tidyverse)\n",
    "library(repr)\n",
    "library(readxl)\n",
    "library(cowplot)\n",
    "library(RColorBrewer)\n",
    "library(tidymodels)"
   ]
  },
  {
   "cell_type": "markdown",
   "id": "0704b0a9-da81-4c61-ae93-2d64c3772111",
   "metadata": {},
   "source": [
    "## Introduction:\n",
    "Birds are a very diverse class of animals, living in all available climates worldwide and functioning in very different ways. There are many different types of birds including terrestrial birds and flying birds. When studying bird fossils and remains, bird bone characteristics, specifically the length of certain bones, can help identify bird species or types (Bochenski & Bochenski Jun., 1992, p. 123). Terrestrial birds are defined as birds that spend most of their lives on the ground, with their appearances usually characterized by shorter wings and bulkier bodies, making flying more difficult for them (Aerial, Terrestrial, n.d.). Flying birds can be defined as birds that spend most of their lives in the air, with their appearances characterized by streamlined, slender bodies with long wingspans (Aerial, Terrestrial, n.d.). Total wing and leg length will be factored in when determining bird type. We can use total length for our prediction based on Nudd's research in his article Wing-bone Length Allometry in Birds (Nudds, 2007, p. 515).\n",
    "\n",
    "For this report, our predictive question is: Based on the bone structure of bird skeletons, such as the length of leg bones, and the length of wing bones, can we predict whether a given bird skeleton belonged to a flying bird or a terrestrial bird? \n",
    "\n",
    "The dataset we are using is a collection from the [National History Museum of Los Angeles County](https://letsvolunteerla.org/listing-item/natural-history-museum-los-angeles-county/). It features measurements of the length and diameter of the major wing and leg bones from 420 bird skeletons. \n",
    "\n",
    "<img src=\"https://media.giphy.com/media/l0K4du1KDvQ8MRPqg/giphy.gif\" width = \"600\"/>\n",
    "\n",
    "Source: https://media.giphy.com/media/l0K4du1KDvQ8MRPqg/giphy.gif"
   ]
  },
  {
   "cell_type": "markdown",
   "id": "2513bd17-d22f-42da-9ce6-08341332920d",
   "metadata": {},
   "source": [
    "## Method and Results"
   ]
  },
  {
   "cell_type": "markdown",
   "id": "6d4ae61f-4213-47d6-96e7-bdc3594a2657",
   "metadata": {},
   "source": [
    "<img src=\"https://s-media-cache-ak0.pinimg.com/564x/cb/cb/41/cbcb41cb2c1db6c32c1e869be2172c3b.jpg\" width = \"400\"/>\n",
    "\n",
    "Source: https://s-media-cache-ak0.pinimg.com/564x/cb/cb/41/cbcb41cb2c1db6c32c1e869be2172c3b.jpg\n",
    "\n",
    "#### There are 420 birds contained in this dataset. Each bird is represented by 10 measurements (features):\n",
    "* Huml: Length of Humerus (mm)\n",
    "* Humw: Diameter of Humerus (mm)\n",
    "* Ulnal: Length of Ulna (mm)\n",
    "* Ulnaw: Diameter of Ulna (mm)\n",
    "* Feml: Length of Femur (mm)\n",
    "* Femw: Diameter of Femur (mm)\n",
    "* Tibl: Length of Tibiotarsus (mm)\n",
    "* Tibw: Diameter of Tibiotarsus (mm)\n",
    "* Tarl: Length of Tarsometatarsus (mm)\n",
    "\n",
    "#### Each bird has a label for its ecological group:\n",
    "* SW: Swimming Birds\n",
    "* W: Wading Birds\n",
    "* T: Terrestrial Birds\n",
    "* R: Raptors\n",
    "* P: Scansorial Birds\n",
    "* SO: Singing Birds"
   ]
  },
  {
   "cell_type": "markdown",
   "id": "7665a545-fccf-4149-a0dc-745957d16efb",
   "metadata": {},
   "source": [
    "### Read the csv file data from the internet into R\n",
    "We will conduct our data analysis by classification through the K Nearest Neighbour algorithm. The dataset we choose collects skeleton lengths in different parts of various kinds of birds. Since we will verify whether it is possible to predict whether a bird is a flying bird or not based on its skeletal structure, we need to choose the skeletal that we think can distinguish between an aerial bird and a terrestrial bird as variables.\n",
    "First, we read the CSV file from the internet into R with the help of the `read.csv` function. There are mainly 5 types of birds in our dataset, by using `mutate` and `filter` functions, we classify these into two categories: Aerial, Terrestrial. (Since \"SW\" refers to swimming birds, it doesn't belong to any of them, so we did not consider it) Since we will be working with `type` as a categorical statistical variable, we will convert it to a factor using the function `as_factor`. "
   ]
  },
  {
   "cell_type": "code",
   "execution_count": 4,
   "id": "b63fb4a5-d3a5-4657-9c1b-ce517f32b6c1",
   "metadata": {},
   "outputs": [
    {
     "data": {
      "text/html": [
       "<table class=\"dataframe\">\n",
       "<caption>A data.frame: 10 × 12</caption>\n",
       "<thead>\n",
       "\t<tr><th></th><th scope=col>id</th><th scope=col>huml</th><th scope=col>humw</th><th scope=col>ulnal</th><th scope=col>ulnaw</th><th scope=col>feml</th><th scope=col>femw</th><th scope=col>tibl</th><th scope=col>tibw</th><th scope=col>tarl</th><th scope=col>tarw</th><th scope=col>type</th></tr>\n",
       "\t<tr><th></th><th scope=col>&lt;int&gt;</th><th scope=col>&lt;dbl&gt;</th><th scope=col>&lt;dbl&gt;</th><th scope=col>&lt;dbl&gt;</th><th scope=col>&lt;dbl&gt;</th><th scope=col>&lt;dbl&gt;</th><th scope=col>&lt;dbl&gt;</th><th scope=col>&lt;dbl&gt;</th><th scope=col>&lt;dbl&gt;</th><th scope=col>&lt;dbl&gt;</th><th scope=col>&lt;dbl&gt;</th><th scope=col>&lt;fct&gt;</th></tr>\n",
       "</thead>\n",
       "<tbody>\n",
       "\t<tr><th scope=row>1</th><td>116</td><td>157.00</td><td> 9.00</td><td>192.00</td><td>7.02</td><td> 85.60</td><td>6.44</td><td>227.00</td><td>6.84</td><td>175.00</td><td>6.77</td><td>Terrestrial</td></tr>\n",
       "\t<tr><th scope=row>2</th><td>117</td><td>190.00</td><td>11.92</td><td>225.00</td><td>8.55</td><td>101.75</td><td>7.75</td><td>240.00</td><td>7.71</td><td>175.00</td><td>7.00</td><td>Terrestrial</td></tr>\n",
       "\t<tr><th scope=row>3</th><td>118</td><td> 70.01</td><td> 3.71</td><td> 76.90</td><td>2.88</td><td> 49.42</td><td>3.08</td><td> 79.56</td><td>3.35</td><td> 52.74</td><td>3.02</td><td>Terrestrial</td></tr>\n",
       "\t<tr><th scope=row>4</th><td>119</td><td> 92.93</td><td> 5.28</td><td>110.94</td><td>3.87</td><td> 55.11</td><td>4.16</td><td>137.00</td><td>4.29</td><td> 96.37</td><td>3.79</td><td>Terrestrial</td></tr>\n",
       "\t<tr><th scope=row>5</th><td>120</td><td>118.52</td><td> 6.87</td><td>134.91</td><td>5.06</td><td> 78.20</td><td>5.24</td><td>132.00</td><td>5.38</td><td> 85.28</td><td>4.74</td><td>Terrestrial</td></tr>\n",
       "\t<tr><th scope=row>6</th><td>121</td><td>120.26</td><td> 7.01</td><td>132.42</td><td>5.40</td><td> 67.00</td><td>5.35</td><td>130.10</td><td>5.22</td><td> 87.53</td><td>5.12</td><td>Terrestrial</td></tr>\n",
       "\t<tr><th scope=row>7</th><td>122</td><td> 67.63</td><td> 4.37</td><td> 60.17</td><td>3.73</td><td> 53.03</td><td>4.08</td><td> 92.18</td><td>4.31</td><td> 54.38</td><td>4.14</td><td>Terrestrial</td></tr>\n",
       "\t<tr><th scope=row>8</th><td>123</td><td> 57.08</td><td> 4.28</td><td> 46.72</td><td>3.63</td><td> 53.64</td><td>4.11</td><td> 89.93</td><td>4.23</td><td> 58.14</td><td>4.32</td><td>Terrestrial</td></tr>\n",
       "\t<tr><th scope=row>9</th><td>124</td><td> 48.19</td><td> 3.44</td><td> 43.71</td><td>3.01</td><td> 50.46</td><td>3.60</td><td> 94.86</td><td>3.45</td><td> 55.00</td><td>4.57</td><td>Terrestrial</td></tr>\n",
       "\t<tr><th scope=row>10</th><td>125</td><td> 30.99</td><td> 2.09</td><td> 26.14</td><td>1.82</td><td> 32.83</td><td>2.09</td><td> 50.67</td><td>1.98</td><td> 30.80</td><td>1.95</td><td>Terrestrial</td></tr>\n",
       "</tbody>\n",
       "</table>\n"
      ],
      "text/latex": [
       "A data.frame: 10 × 12\n",
       "\\begin{tabular}{r|llllllllllll}\n",
       "  & id & huml & humw & ulnal & ulnaw & feml & femw & tibl & tibw & tarl & tarw & type\\\\\n",
       "  & <int> & <dbl> & <dbl> & <dbl> & <dbl> & <dbl> & <dbl> & <dbl> & <dbl> & <dbl> & <dbl> & <fct>\\\\\n",
       "\\hline\n",
       "\t1 & 116 & 157.00 &  9.00 & 192.00 & 7.02 &  85.60 & 6.44 & 227.00 & 6.84 & 175.00 & 6.77 & Terrestrial\\\\\n",
       "\t2 & 117 & 190.00 & 11.92 & 225.00 & 8.55 & 101.75 & 7.75 & 240.00 & 7.71 & 175.00 & 7.00 & Terrestrial\\\\\n",
       "\t3 & 118 &  70.01 &  3.71 &  76.90 & 2.88 &  49.42 & 3.08 &  79.56 & 3.35 &  52.74 & 3.02 & Terrestrial\\\\\n",
       "\t4 & 119 &  92.93 &  5.28 & 110.94 & 3.87 &  55.11 & 4.16 & 137.00 & 4.29 &  96.37 & 3.79 & Terrestrial\\\\\n",
       "\t5 & 120 & 118.52 &  6.87 & 134.91 & 5.06 &  78.20 & 5.24 & 132.00 & 5.38 &  85.28 & 4.74 & Terrestrial\\\\\n",
       "\t6 & 121 & 120.26 &  7.01 & 132.42 & 5.40 &  67.00 & 5.35 & 130.10 & 5.22 &  87.53 & 5.12 & Terrestrial\\\\\n",
       "\t7 & 122 &  67.63 &  4.37 &  60.17 & 3.73 &  53.03 & 4.08 &  92.18 & 4.31 &  54.38 & 4.14 & Terrestrial\\\\\n",
       "\t8 & 123 &  57.08 &  4.28 &  46.72 & 3.63 &  53.64 & 4.11 &  89.93 & 4.23 &  58.14 & 4.32 & Terrestrial\\\\\n",
       "\t9 & 124 &  48.19 &  3.44 &  43.71 & 3.01 &  50.46 & 3.60 &  94.86 & 3.45 &  55.00 & 4.57 & Terrestrial\\\\\n",
       "\t10 & 125 &  30.99 &  2.09 &  26.14 & 1.82 &  32.83 & 2.09 &  50.67 & 1.98 &  30.80 & 1.95 & Terrestrial\\\\\n",
       "\\end{tabular}\n"
      ],
      "text/markdown": [
       "\n",
       "A data.frame: 10 × 12\n",
       "\n",
       "| <!--/--> | id &lt;int&gt; | huml &lt;dbl&gt; | humw &lt;dbl&gt; | ulnal &lt;dbl&gt; | ulnaw &lt;dbl&gt; | feml &lt;dbl&gt; | femw &lt;dbl&gt; | tibl &lt;dbl&gt; | tibw &lt;dbl&gt; | tarl &lt;dbl&gt; | tarw &lt;dbl&gt; | type &lt;fct&gt; |\n",
       "|---|---|---|---|---|---|---|---|---|---|---|---|---|\n",
       "| 1 | 116 | 157.00 |  9.00 | 192.00 | 7.02 |  85.60 | 6.44 | 227.00 | 6.84 | 175.00 | 6.77 | Terrestrial |\n",
       "| 2 | 117 | 190.00 | 11.92 | 225.00 | 8.55 | 101.75 | 7.75 | 240.00 | 7.71 | 175.00 | 7.00 | Terrestrial |\n",
       "| 3 | 118 |  70.01 |  3.71 |  76.90 | 2.88 |  49.42 | 3.08 |  79.56 | 3.35 |  52.74 | 3.02 | Terrestrial |\n",
       "| 4 | 119 |  92.93 |  5.28 | 110.94 | 3.87 |  55.11 | 4.16 | 137.00 | 4.29 |  96.37 | 3.79 | Terrestrial |\n",
       "| 5 | 120 | 118.52 |  6.87 | 134.91 | 5.06 |  78.20 | 5.24 | 132.00 | 5.38 |  85.28 | 4.74 | Terrestrial |\n",
       "| 6 | 121 | 120.26 |  7.01 | 132.42 | 5.40 |  67.00 | 5.35 | 130.10 | 5.22 |  87.53 | 5.12 | Terrestrial |\n",
       "| 7 | 122 |  67.63 |  4.37 |  60.17 | 3.73 |  53.03 | 4.08 |  92.18 | 4.31 |  54.38 | 4.14 | Terrestrial |\n",
       "| 8 | 123 |  57.08 |  4.28 |  46.72 | 3.63 |  53.64 | 4.11 |  89.93 | 4.23 |  58.14 | 4.32 | Terrestrial |\n",
       "| 9 | 124 |  48.19 |  3.44 |  43.71 | 3.01 |  50.46 | 3.60 |  94.86 | 3.45 |  55.00 | 4.57 | Terrestrial |\n",
       "| 10 | 125 |  30.99 |  2.09 |  26.14 | 1.82 |  32.83 | 2.09 |  50.67 | 1.98 |  30.80 | 1.95 | Terrestrial |\n",
       "\n"
      ],
      "text/plain": [
       "   id  huml   humw  ulnal  ulnaw feml   femw tibl   tibw tarl   tarw\n",
       "1  116 157.00  9.00 192.00 7.02   85.60 6.44 227.00 6.84 175.00 6.77\n",
       "2  117 190.00 11.92 225.00 8.55  101.75 7.75 240.00 7.71 175.00 7.00\n",
       "3  118  70.01  3.71  76.90 2.88   49.42 3.08  79.56 3.35  52.74 3.02\n",
       "4  119  92.93  5.28 110.94 3.87   55.11 4.16 137.00 4.29  96.37 3.79\n",
       "5  120 118.52  6.87 134.91 5.06   78.20 5.24 132.00 5.38  85.28 4.74\n",
       "6  121 120.26  7.01 132.42 5.40   67.00 5.35 130.10 5.22  87.53 5.12\n",
       "7  122  67.63  4.37  60.17 3.73   53.03 4.08  92.18 4.31  54.38 4.14\n",
       "8  123  57.08  4.28  46.72 3.63   53.64 4.11  89.93 4.23  58.14 4.32\n",
       "9  124  48.19  3.44  43.71 3.01   50.46 3.60  94.86 3.45  55.00 4.57\n",
       "10 125  30.99  2.09  26.14 1.82   32.83 2.09  50.67 1.98  30.80 1.95\n",
       "   type       \n",
       "1  Terrestrial\n",
       "2  Terrestrial\n",
       "3  Terrestrial\n",
       "4  Terrestrial\n",
       "5  Terrestrial\n",
       "6  Terrestrial\n",
       "7  Terrestrial\n",
       "8  Terrestrial\n",
       "9  Terrestrial\n",
       "10 Terrestrial"
      ]
     },
     "metadata": {},
     "output_type": "display_data"
    }
   ],
   "source": [
    "# Read the csv file data from internat into R,\n",
    "bird_data <- read.csv(\"https://raw.githubusercontent.com/DanielHuangjiakang/Projcet-Group-128-DSCI-100/main/bird%202.csv\", header = TRUE) |>\n",
    "    mutate(type =ifelse(type == \"T\" | type == \"W\", \"Terrestrial\",type)) |>\n",
    "    mutate(type =ifelse(type == \"R\" | type == \"P\" | type == \"SO\", \"Flying\",type)) |>\n",
    "    filter(type == \"Terrestrial\" |type ==\"Flying\")  |>\n",
    "    mutate(type = as_factor(type))    \n",
    "\n",
    "bird_data <- replace(bird_data, is.na(bird_data), TRUE)    \n",
    "head(bird_data, n = 10)"
   ]
  },
  {
   "cell_type": "markdown",
   "id": "c8486240-1441-45e5-a80a-5f102257cb75",
   "metadata": {},
   "source": [
    "The above table shows the first ten observations of our dataset."
   ]
  },
  {
   "cell_type": "markdown",
   "id": "2d5c9134-e0aa-498e-abc5-140642194b22",
   "metadata": {},
   "source": [
    "##  Forward selection in R"
   ]
  },
  {
   "cell_type": "markdown",
   "id": "4a84f32f-bfe2-4727-a075-2343ec6d9bcb",
   "metadata": {},
   "source": [
    "We have decided to focus solely on bone length predictors, omitting bone diameter predictors from this data set, based on the research conducted by Bochenski and Bochenski which states that total wing length is key in the identification of bird species because it affects bird size, skeletal proportions and biology (Bochenski & Bochenski Jun., 1992, p. 130). \n",
    "\n",
    "### The method below is from (Data Science A First Introduction Chapter 6.8.3):"
   ]
  },
  {
   "cell_type": "code",
   "execution_count": 5,
   "id": "b1883cab-1d6d-403c-962a-1a95fd4370cd",
   "metadata": {},
   "outputs": [],
   "source": [
    "set.seed(1234) \n",
    "bird_subset <- bird_data |> \n",
    "  select(type, huml, humw, ulnal, ulnaw, feml, femw, tibl, tibw, tarl, tarw)\n",
    "names <- colnames(bird_subset |> select(-type))\n",
    "\n",
    "# create an empty tibble to store the results\n",
    "accuracies <- tibble(size = integer(), \n",
    "                     model_string = character(), \n",
    "                     accuracy = numeric())\n",
    "\n",
    "# create a model specification\n",
    "knn_spec <- nearest_neighbor(weight_func = \"rectangular\", \n",
    "                             neighbors = tune()) |>\n",
    "     set_engine(\"kknn\") |>\n",
    "     set_mode(\"classification\")\n",
    "\n",
    "# stores selected predictors\n",
    "selected <- c()\n",
    "\n",
    "# store the total number of predictors\n",
    "n_total <- length(names)\n",
    "\n",
    "# create a 5-fold cross-validation object\n",
    "bird_vfold <- vfold_cv(bird_subset, v = 5, strata = type)\n",
    "\n",
    "# for every size from 1 to the total number of predictors\n",
    "for (i in 1:n_total) {\n",
    "    # for every predictor still not added yet\n",
    "    accs <- list()\n",
    "    models <- list()\n",
    "    for (j in 1:length(names)) {\n",
    "        # create a model string for this combination of predictors\n",
    "        preds_new <- c(selected, names[[j]])\n",
    "        model_string <- paste(\"type\", \"~\", paste(preds_new, collapse=\"+\"))\n",
    "\n",
    "        # create a recipe from the model string\n",
    "        bird_recipe <- recipe(as.formula(model_string), \n",
    "                                data = bird_subset) |>\n",
    "                          step_scale(all_predictors()) |>\n",
    "                          step_center(all_predictors())\n",
    "\n",
    "        # tune the KNN classifier with these predictors, \n",
    "        # and collect the accuracy for the best K\n",
    "        acc <- workflow() |>\n",
    "          add_recipe(bird_recipe) |>\n",
    "          add_model(knn_spec) |>\n",
    "          tune_grid(resamples = bird_vfold, grid = 10) |>\n",
    "          collect_metrics() |>\n",
    "          filter(.metric == \"accuracy\") |>\n",
    "          summarize(mx = max(mean))\n",
    "        acc <- acc$mx |> unlist()\n",
    "\n",
    "        # add this result to the dataframe\n",
    "        accs[[j]] <- acc\n",
    "        models[[j]] <- model_string\n",
    "    }\n",
    "    jstar <- which.max(unlist(accs))\n",
    "    accuracies <- accuracies |> \n",
    "      add_row(size = i, \n",
    "              model_string = models[[jstar]], \n",
    "              accuracy = accs[[jstar]])\n",
    "    selected <- c(selected, names[[jstar]])\n",
    "    names <- names[-jstar]\n",
    "}     "
   ]
  },
  {
   "cell_type": "code",
   "execution_count": 8,
   "id": "0e99950c-5859-42e8-97c9-59ef59a2ab89",
   "metadata": {},
   "outputs": [
    {
     "data": {
      "image/png": "[encoded data removed]",
      "text/plain": [
       "plot without title"
      ]
     },
     "metadata": {
      "image/png": {
       "height": 480,
       "width": 900
      }
     },
     "output_type": "display_data"
    }
   ],
   "source": [
    "options(repr.plot.width = 15, repr.plot.height = 8)\n",
    "\n",
    "accuracies_plot <- accuracies |>\n",
    "    ggplot(aes(x = size, y = accuracy)) +\n",
    "    geom_line() +\n",
    "    geom_point() +\n",
    "    ggtitle(\"Estimated accuracy VS The Number of Predictors For The Sequence of Models\") +\n",
    "    labs(x = \"Number of Predictors\", y = \"Estimate Accuracy\") +\n",
    "        scale_x_continuous(\"Number of Predictors\", c(1 : 10)) +\n",
    "     theme(text = element_text(size = 20))\n",
    "\n",
    "accuracies_plot "
   ]
  },
  {
   "cell_type": "code",
   "execution_count": 9,
   "id": "b08cca94-9002-4881-8fce-4045aad4b5fb",
   "metadata": {},
   "outputs": [
    {
     "data": {
      "text/html": [
       "<table class=\"dataframe\">\n",
       "<caption>A tibble: 10 × 3</caption>\n",
       "<thead>\n",
       "\t<tr><th scope=col>size</th><th scope=col>model_string</th><th scope=col>accuracy</th></tr>\n",
       "\t<tr><th scope=col>&lt;int&gt;</th><th scope=col>&lt;chr&gt;</th><th scope=col>&lt;dbl&gt;</th></tr>\n",
       "</thead>\n",
       "<tbody>\n",
       "\t<tr><td> 1</td><td>type ~ tibl                                               </td><td>0.7730918</td></tr>\n",
       "\t<tr><td> 2</td><td>type ~ tibl+tarl                                          </td><td>0.8752265</td></tr>\n",
       "\t<tr><td> 3</td><td>type ~ tibl+tarl+tarw                                     </td><td>0.9145249</td></tr>\n",
       "\t<tr><td> 4</td><td>type ~ tibl+tarl+tarw+huml                                </td><td>0.9375322</td></tr>\n",
       "\t<tr><td> 5</td><td>type ~ tibl+tarl+tarw+huml+humw                           </td><td>0.9538745</td></tr>\n",
       "\t<tr><td> 6</td><td>type ~ tibl+tarl+tarw+huml+humw+feml                      </td><td>0.9471532</td></tr>\n",
       "\t<tr><td> 7</td><td>type ~ tibl+tarl+tarw+huml+humw+feml+tibw                 </td><td>0.9439820</td></tr>\n",
       "\t<tr><td> 8</td><td>type ~ tibl+tarl+tarw+huml+humw+feml+tibw+ulnal           </td><td>0.9408126</td></tr>\n",
       "\t<tr><td> 9</td><td>type ~ tibl+tarl+tarw+huml+humw+feml+tibw+ulnal+femw      </td><td>0.9441460</td></tr>\n",
       "\t<tr><td>10</td><td>type ~ tibl+tarl+tarw+huml+humw+feml+tibw+ulnal+femw+ulnaw</td><td>0.9474246</td></tr>\n",
       "</tbody>\n",
       "</table>\n"
      ],
      "text/latex": [
       "A tibble: 10 × 3\n",
       "\\begin{tabular}{lll}\n",
       " size & model\\_string & accuracy\\\\\n",
       " <int> & <chr> & <dbl>\\\\\n",
       "\\hline\n",
       "\t  1 & type \\textasciitilde{} tibl                                                & 0.7730918\\\\\n",
       "\t  2 & type \\textasciitilde{} tibl+tarl                                           & 0.8752265\\\\\n",
       "\t  3 & type \\textasciitilde{} tibl+tarl+tarw                                      & 0.9145249\\\\\n",
       "\t  4 & type \\textasciitilde{} tibl+tarl+tarw+huml                                 & 0.9375322\\\\\n",
       "\t  5 & type \\textasciitilde{} tibl+tarl+tarw+huml+humw                            & 0.9538745\\\\\n",
       "\t  6 & type \\textasciitilde{} tibl+tarl+tarw+huml+humw+feml                       & 0.9471532\\\\\n",
       "\t  7 & type \\textasciitilde{} tibl+tarl+tarw+huml+humw+feml+tibw                  & 0.9439820\\\\\n",
       "\t  8 & type \\textasciitilde{} tibl+tarl+tarw+huml+humw+feml+tibw+ulnal            & 0.9408126\\\\\n",
       "\t  9 & type \\textasciitilde{} tibl+tarl+tarw+huml+humw+feml+tibw+ulnal+femw       & 0.9441460\\\\\n",
       "\t 10 & type \\textasciitilde{} tibl+tarl+tarw+huml+humw+feml+tibw+ulnal+femw+ulnaw & 0.9474246\\\\\n",
       "\\end{tabular}\n"
      ],
      "text/markdown": [
       "\n",
       "A tibble: 10 × 3\n",
       "\n",
       "| size &lt;int&gt; | model_string &lt;chr&gt; | accuracy &lt;dbl&gt; |\n",
       "|---|---|---|\n",
       "|  1 | type ~ tibl                                                | 0.7730918 |\n",
       "|  2 | type ~ tibl+tarl                                           | 0.8752265 |\n",
       "|  3 | type ~ tibl+tarl+tarw                                      | 0.9145249 |\n",
       "|  4 | type ~ tibl+tarl+tarw+huml                                 | 0.9375322 |\n",
       "|  5 | type ~ tibl+tarl+tarw+huml+humw                            | 0.9538745 |\n",
       "|  6 | type ~ tibl+tarl+tarw+huml+humw+feml                       | 0.9471532 |\n",
       "|  7 | type ~ tibl+tarl+tarw+huml+humw+feml+tibw                  | 0.9439820 |\n",
       "|  8 | type ~ tibl+tarl+tarw+huml+humw+feml+tibw+ulnal            | 0.9408126 |\n",
       "|  9 | type ~ tibl+tarl+tarw+huml+humw+feml+tibw+ulnal+femw       | 0.9441460 |\n",
       "| 10 | type ~ tibl+tarl+tarw+huml+humw+feml+tibw+ulnal+femw+ulnaw | 0.9474246 |\n",
       "\n"
      ],
      "text/plain": [
       "   size model_string                                               accuracy \n",
       "1   1   type ~ tibl                                                0.7730918\n",
       "2   2   type ~ tibl+tarl                                           0.8752265\n",
       "3   3   type ~ tibl+tarl+tarw                                      0.9145249\n",
       "4   4   type ~ tibl+tarl+tarw+huml                                 0.9375322\n",
       "5   5   type ~ tibl+tarl+tarw+huml+humw                            0.9538745\n",
       "6   6   type ~ tibl+tarl+tarw+huml+humw+feml                       0.9471532\n",
       "7   7   type ~ tibl+tarl+tarw+huml+humw+feml+tibw                  0.9439820\n",
       "8   8   type ~ tibl+tarl+tarw+huml+humw+feml+tibw+ulnal            0.9408126\n",
       "9   9   type ~ tibl+tarl+tarw+huml+humw+feml+tibw+ulnal+femw       0.9441460\n",
       "10 10   type ~ tibl+tarl+tarw+huml+humw+feml+tibw+ulnal+femw+ulnaw 0.9474246"
      ]
     },
     "metadata": {},
     "output_type": "display_data"
    }
   ],
   "source": [
    "accuracies"
   ]
  },
  {
   "cell_type": "markdown",
   "id": "b17183fe-daa1-496c-88ce-9a4e43926e9d",
   "metadata": {},
   "source": [
    "The plot above depicts the accuracy estimates for various predictor combinations. The estimated accuracy increases until the `5th` predictor, peaks at that point with approximately `95%` accuracy and then starts decreasing moderately."
   ]
  },
  {
   "cell_type": "code",
   "execution_count": 10,
   "id": "5abe7647-7446-46d9-9419-8bf3be591241",
   "metadata": {},
   "outputs": [
    {
     "data": {
      "text/html": [
       "<table class=\"dataframe\">\n",
       "<caption>A tibble: 1 × 3</caption>\n",
       "<thead>\n",
       "\t<tr><th scope=col>size</th><th scope=col>model_string</th><th scope=col>accuracy</th></tr>\n",
       "\t<tr><th scope=col>&lt;int&gt;</th><th scope=col>&lt;chr&gt;</th><th scope=col>&lt;dbl&gt;</th></tr>\n",
       "</thead>\n",
       "<tbody>\n",
       "\t<tr><td>5</td><td>type ~ tibl+tarl+tarw+huml+humw</td><td>0.9538745</td></tr>\n",
       "</tbody>\n",
       "</table>\n"
      ],
      "text/latex": [
       "A tibble: 1 × 3\n",
       "\\begin{tabular}{lll}\n",
       " size & model\\_string & accuracy\\\\\n",
       " <int> & <chr> & <dbl>\\\\\n",
       "\\hline\n",
       "\t 5 & type \\textasciitilde{} tibl+tarl+tarw+huml+humw & 0.9538745\\\\\n",
       "\\end{tabular}\n"
      ],
      "text/markdown": [
       "\n",
       "A tibble: 1 × 3\n",
       "\n",
       "| size &lt;int&gt; | model_string &lt;chr&gt; | accuracy &lt;dbl&gt; |\n",
       "|---|---|---|\n",
       "| 5 | type ~ tibl+tarl+tarw+huml+humw | 0.9538745 |\n",
       "\n"
      ],
      "text/plain": [
       "  size model_string                    accuracy \n",
       "1 5    type ~ tibl+tarl+tarw+huml+humw 0.9538745"
      ]
     },
     "metadata": {},
     "output_type": "display_data"
    }
   ],
   "source": [
    "best_predictors <- accuracies |>\n",
    "    arrange(-accuracy) |>\n",
    "    slice(1)\n",
    "best_predictors"
   ]
  },
  {
   "cell_type": "markdown",
   "id": "eea0d6a7-25f3-4cff-b9b2-0ec15f1d97f9",
   "metadata": {},
   "source": [
    "We select all the different lengths of bones from our dataset into predictors. To increase the accuracy of our prediction we use forward selection to choose the best predictors among all the predictors. As shown by the forward selection results, many different combinations of predictors yield accuracies of 93% or above. While we find that the peak estimated accuracy is when we are using tibl, tarl, tarw, huml, humw as predictors, we will choose to use the `tibl, tarl, huml, feml and ulnal` predictors. The rationale for our choice is provided by the Bochenski & Bochenski citation above, and by forward selection results showing high accuracy among various different predictor combinations. "
   ]
  },
  {
   "cell_type": "markdown",
   "id": "a0b1aa1c-ebe8-44bf-a0a8-4b744de58200",
   "metadata": {},
   "source": [
    "## Train the classifier"
   ]
  },
  {
   "cell_type": "markdown",
   "id": "d3d26aed-bcce-414c-8975-bf913d8078b8",
   "metadata": {},
   "source": [
    "In order to increase the accuracy of our model, we need to provide enough examples for the model to learn appropriately; therefore, a larger training data set should be chosen. We will use `75%` of the data for training, and `25%` for testing. Then we scale and centre only the training data. This ensures that our test data has no effect on our model training. Now, we do `5-fold-cross-validation` using the 5 predictors (`tibl, tarl, huml, feml and ulnal`) to find the best value of k for our nearest neighbour classification. "
   ]
  },
  {
   "cell_type": "code",
   "execution_count": 11,
   "id": "432433ef-c590-4eda-8063-9d3872452c2f",
   "metadata": {},
   "outputs": [],
   "source": [
    "set.seed(1234)\n",
    "\n",
    "# create the 25/75 split of the training data into training and validation\n",
    "bird_split <- initial_split(bird_data, prop = 0.75, strata = type)\n",
    "bird_train <- training(bird_split)\n",
    "bird_test <- testing(bird_split)\n",
    "\n",
    "# set recipe by 5 predictors\n",
    " bird_recipe <- recipe(type ~  feml + huml + tarl + tibl + ulnal , \n",
    "                        data = bird_train) |>\n",
    "  step_scale(all_predictors()) |>\n",
    "  step_center(all_predictors()) \n",
    "\n",
    "# To perform 5-fold cross-validation in R with tidymodels, we use another function: vfold_cv.\n",
    "bird_vfold <- vfold_cv(bird_train, v = 5, strata = type)\n",
    "\n",
    "# tuned should be specified as tune() in the model specification rather than given a particular value.\n",
    "knn_spec <- nearest_neighbor(weight_func = \"rectangular\", neighbors = tune()) |>\n",
    "    set_engine(\"kknn\") |>\n",
    "    set_mode(\"classification\")\n",
    "\n",
    "# k_vals data frame with the neighbors variable containing values from 1 to 20, step by 1. Using the seq function.\n",
    "k_vals <- tibble(neighbors = seq(from = 1, to = 20, by = 1))\n",
    "\n",
    "accuracy_k <- workflow() |>\n",
    "    add_recipe(bird_recipe) |>\n",
    "    add_model(knn_spec) |>\n",
    "    tune_grid(resamples = bird_vfold, grid = k_vals) |>\n",
    "    collect_metrics() |>\n",
    "    filter(.metric == \"accuracy\") |> \n",
    "    arrange(-mean) "
   ]
  },
  {
   "cell_type": "code",
   "execution_count": 12,
   "id": "94081eb8-584b-436f-8a83-ce0ff251dbc8",
   "metadata": {},
   "outputs": [],
   "source": [
    "accuracy_vs_k <- ggplot(accuracy_k, aes(x = neighbors, y = mean)) +\n",
    "  geom_point() +\n",
    "  geom_line() +\n",
    "  labs(x = \"Neighbors\", y = \"Accuracy Estimate\") + \n",
    "  theme(text = element_text(size = 12)) +\n",
    "  ggtitle(\"Estimated Accuracy VS The Number of Neighbors\") +\n",
    "  theme(text = element_text(size = 20)) +\n",
    "  scale_x_continuous(\"Neighbors\", c(1 : 20))"
   ]
  },
  {
   "cell_type": "code",
   "execution_count": 13,
   "id": "403cff0f-dfbb-421e-a04a-e22640def4bc",
   "metadata": {},
   "outputs": [
    {
     "data": {
      "image/png": "[encoded data removed]",
      "text/plain": [
       "plot without title"
      ]
     },
     "metadata": {
      "image/png": {
       "height": 480,
       "width": 900
      }
     },
     "output_type": "display_data"
    }
   ],
   "source": [
    "accuracy_vs_k"
   ]
  },
  {
   "cell_type": "markdown",
   "id": "17d9a75f-3d1a-4851-b667-58e74e5486fa",
   "metadata": {},
   "source": [
    "The above figure visualizes how the number of neighbours K affects the estimated accuracy. "
   ]
  },
  {
   "cell_type": "code",
   "execution_count": 14,
   "id": "97d51d69-35c3-4640-b88b-9ad415794f9c",
   "metadata": {},
   "outputs": [
    {
     "data": {
      "text/html": [
       "<table class=\"dataframe\">\n",
       "<caption>A tibble: 6 × 7</caption>\n",
       "<thead>\n",
       "\t<tr><th scope=col>neighbors</th><th scope=col>.metric</th><th scope=col>.estimator</th><th scope=col>mean</th><th scope=col>n</th><th scope=col>std_err</th><th scope=col>.config</th></tr>\n",
       "\t<tr><th scope=col>&lt;dbl&gt;</th><th scope=col>&lt;chr&gt;</th><th scope=col>&lt;chr&gt;</th><th scope=col>&lt;dbl&gt;</th><th scope=col>&lt;int&gt;</th><th scope=col>&lt;dbl&gt;</th><th scope=col>&lt;chr&gt;</th></tr>\n",
       "</thead>\n",
       "<tbody>\n",
       "\t<tr><td>1</td><td>accuracy</td><td>binary</td><td>0.8857807</td><td>5</td><td>0.008646305</td><td>Preprocessor1_Model01</td></tr>\n",
       "\t<tr><td>2</td><td>accuracy</td><td>binary</td><td>0.8857807</td><td>5</td><td>0.008646305</td><td>Preprocessor1_Model02</td></tr>\n",
       "\t<tr><td>3</td><td>accuracy</td><td>binary</td><td>0.8593072</td><td>5</td><td>0.028758695</td><td>Preprocessor1_Model03</td></tr>\n",
       "\t<tr><td>4</td><td>accuracy</td><td>binary</td><td>0.8593072</td><td>5</td><td>0.028758695</td><td>Preprocessor1_Model04</td></tr>\n",
       "\t<tr><td>7</td><td>accuracy</td><td>binary</td><td>0.8332120</td><td>5</td><td>0.020512748</td><td>Preprocessor1_Model07</td></tr>\n",
       "\t<tr><td>8</td><td>accuracy</td><td>binary</td><td>0.8332120</td><td>5</td><td>0.020512748</td><td>Preprocessor1_Model08</td></tr>\n",
       "</tbody>\n",
       "</table>\n"
      ],
      "text/latex": [
       "A tibble: 6 × 7\n",
       "\\begin{tabular}{lllllll}\n",
       " neighbors & .metric & .estimator & mean & n & std\\_err & .config\\\\\n",
       " <dbl> & <chr> & <chr> & <dbl> & <int> & <dbl> & <chr>\\\\\n",
       "\\hline\n",
       "\t 1 & accuracy & binary & 0.8857807 & 5 & 0.008646305 & Preprocessor1\\_Model01\\\\\n",
       "\t 2 & accuracy & binary & 0.8857807 & 5 & 0.008646305 & Preprocessor1\\_Model02\\\\\n",
       "\t 3 & accuracy & binary & 0.8593072 & 5 & 0.028758695 & Preprocessor1\\_Model03\\\\\n",
       "\t 4 & accuracy & binary & 0.8593072 & 5 & 0.028758695 & Preprocessor1\\_Model04\\\\\n",
       "\t 7 & accuracy & binary & 0.8332120 & 5 & 0.020512748 & Preprocessor1\\_Model07\\\\\n",
       "\t 8 & accuracy & binary & 0.8332120 & 5 & 0.020512748 & Preprocessor1\\_Model08\\\\\n",
       "\\end{tabular}\n"
      ],
      "text/markdown": [
       "\n",
       "A tibble: 6 × 7\n",
       "\n",
       "| neighbors &lt;dbl&gt; | .metric &lt;chr&gt; | .estimator &lt;chr&gt; | mean &lt;dbl&gt; | n &lt;int&gt; | std_err &lt;dbl&gt; | .config &lt;chr&gt; |\n",
       "|---|---|---|---|---|---|---|\n",
       "| 1 | accuracy | binary | 0.8857807 | 5 | 0.008646305 | Preprocessor1_Model01 |\n",
       "| 2 | accuracy | binary | 0.8857807 | 5 | 0.008646305 | Preprocessor1_Model02 |\n",
       "| 3 | accuracy | binary | 0.8593072 | 5 | 0.028758695 | Preprocessor1_Model03 |\n",
       "| 4 | accuracy | binary | 0.8593072 | 5 | 0.028758695 | Preprocessor1_Model04 |\n",
       "| 7 | accuracy | binary | 0.8332120 | 5 | 0.020512748 | Preprocessor1_Model07 |\n",
       "| 8 | accuracy | binary | 0.8332120 | 5 | 0.020512748 | Preprocessor1_Model08 |\n",
       "\n"
      ],
      "text/plain": [
       "  neighbors .metric  .estimator mean      n std_err     .config              \n",
       "1 1         accuracy binary     0.8857807 5 0.008646305 Preprocessor1_Model01\n",
       "2 2         accuracy binary     0.8857807 5 0.008646305 Preprocessor1_Model02\n",
       "3 3         accuracy binary     0.8593072 5 0.028758695 Preprocessor1_Model03\n",
       "4 4         accuracy binary     0.8593072 5 0.028758695 Preprocessor1_Model04\n",
       "5 7         accuracy binary     0.8332120 5 0.020512748 Preprocessor1_Model07\n",
       "6 8         accuracy binary     0.8332120 5 0.020512748 Preprocessor1_Model08"
      ]
     },
     "metadata": {},
     "output_type": "display_data"
    }
   ],
   "source": [
    "# find the Top 6 highest mean of the neighbors\n",
    "head(accuracy_k,6)"
   ]
  },
  {
   "cell_type": "markdown",
   "id": "fa09e3d7-a1ce-4326-8115-dd886383660f",
   "metadata": {},
   "source": [
    "The above figure shows the top 6 means and the neighbors they use. And we will not use `k = 1` and `k = 2`. The reason we will not use k=1 is that it will make our model overfitting. And we may want to choose an odd number to avoid ties, so will not choose `k = 2`. Now, we are going to use `k = 3`."
   ]
  },
  {
   "cell_type": "markdown",
   "id": "7fc65446-7705-4cff-b031-39af17c9f95f",
   "metadata": {},
   "source": [
    "In order to assess how well our model predicts on unknown data, we will retrain our `KNN regression model` for the whole training data set by using the best k that we found above, which is `k = 3`. Then, we will use `predict` and `metrics` functions to calculate the accuracy of our model and use `conf_mat` function to find the confusion matrix."
   ]
  },
  {
   "cell_type": "code",
   "execution_count": 15,
   "id": "c5dbe337-8da3-4230-9555-f7a29eea7293",
   "metadata": {},
   "outputs": [
    {
     "data": {
      "text/html": [
       "<table class=\"dataframe\">\n",
       "<caption>A tibble: 2 × 3</caption>\n",
       "<thead>\n",
       "\t<tr><th scope=col>.metric</th><th scope=col>.estimator</th><th scope=col>.estimate</th></tr>\n",
       "\t<tr><th scope=col>&lt;chr&gt;</th><th scope=col>&lt;chr&gt;</th><th scope=col>&lt;dbl&gt;</th></tr>\n",
       "</thead>\n",
       "<tbody>\n",
       "\t<tr><td>accuracy</td><td>binary</td><td>0.8552632</td></tr>\n",
       "\t<tr><td>kap     </td><td>binary</td><td>0.6227437</td></tr>\n",
       "</tbody>\n",
       "</table>\n"
      ],
      "text/latex": [
       "A tibble: 2 × 3\n",
       "\\begin{tabular}{lll}\n",
       " .metric & .estimator & .estimate\\\\\n",
       " <chr> & <chr> & <dbl>\\\\\n",
       "\\hline\n",
       "\t accuracy & binary & 0.8552632\\\\\n",
       "\t kap      & binary & 0.6227437\\\\\n",
       "\\end{tabular}\n"
      ],
      "text/markdown": [
       "\n",
       "A tibble: 2 × 3\n",
       "\n",
       "| .metric &lt;chr&gt; | .estimator &lt;chr&gt; | .estimate &lt;dbl&gt; |\n",
       "|---|---|---|\n",
       "| accuracy | binary | 0.8552632 |\n",
       "| kap      | binary | 0.6227437 |\n",
       "\n"
      ],
      "text/plain": [
       "  .metric  .estimator .estimate\n",
       "1 accuracy binary     0.8552632\n",
       "2 kap      binary     0.6227437"
      ]
     },
     "metadata": {},
     "output_type": "display_data"
    },
    {
     "data": {
      "text/plain": [
       "             Truth\n",
       "Prediction    Terrestrial Flying\n",
       "  Terrestrial          14      3\n",
       "  Flying                8     51"
      ]
     },
     "metadata": {},
     "output_type": "display_data"
    }
   ],
   "source": [
    "set.seed(1234)\n",
    "\n",
    "# Creating spec based on best_K\n",
    "best_spec <- nearest_neighbor(weight_func = \"rectangular\" , neighbor = 3) |>\n",
    "              set_engine(\"kknn\") |>\n",
    "              set_mode(\"classification\")\n",
    "\n",
    "\n",
    "# Fit the model\n",
    "bird_fit <- workflow() |>\n",
    "    add_recipe(bird_recipe) |>\n",
    "    add_model(best_spec) |>   \n",
    "    fit(data = bird_train)\n",
    "\n",
    "# Predict the testing data with our fitted model\n",
    "bird_prediction <- predict(bird_fit, bird_test) |>\n",
    "    bind_cols(bird_test)\n",
    "\n",
    "# Estimate of the truth and our predictive class\n",
    "bird_metrics <- bird_prediction |>\n",
    "    metrics(truth = type , estimate = .pred_class)\n",
    "\n",
    "bird_conf_mat <- bird_prediction  |>\n",
    "    conf_mat(truth = type, estimate = .pred_class)\n",
    "bird_metrics\n",
    "bird_conf_mat"
   ]
  },
  {
   "cell_type": "markdown",
   "id": "771f8ba8-bcb1-4b19-bbdb-5d02b224c5fc",
   "metadata": {},
   "source": [
    "The table above shows the accuracy and confusion matrix of our model based on testing data. Our model's accuracy is approximately `85.5%`, indicating that the model looks to generalize kind well to new data that it has never seen before. The confusion matrix shows 14 observations were correctly predicted as terrestrial, and 51 were correctly predicted as flying birds. In addition, for the convenience of description, we assume that the flying bird is the positive side and the terrestrial bird is the negative side. We can determine the `true positive rate`(TPR) is `51/(51+8) = 86.4%`. And `true negative rate`(TNR) is `14/(14+3) = 82.4%`."
   ]
  },
  {
   "cell_type": "markdown",
   "id": "34444e32-ee14-42f9-8cb7-2ca7bd89fbf3",
   "metadata": {},
   "source": [
    "## Discussion\n",
    "### Summary and expectations\n",
    "Through an analysis of the length of bird wings (based on the total length of the ulna and humerus bones) and the length of bird legs (based on the total length of the tarsus, tibiotarsus and femur bones), our classification model allows us to identify terrestrial and flying birds. Before the creation of our model, we expected to be able to accurately categorize birds as terrestrial or flying birds based on their bone structure. Our findings meet our expected outcome.\n",
    "\n",
    "By modelling estimated predictor accuracy using forward selection, cross-validation and a K-Nearest-Neighbour model, and through research on journal articles related to bird skeletal structure and fossil research, we identify 5 predictors (huml, ulnal, feml, tibl, tarl), with an approximate accuracy of `94%`, combined with our research findings. Using a K value of 3, which was determined through cross-validation, our model provides us with an `85.5%` accuracy on the testing dataset. \n",
    "\n",
    "We used several preprocessing steps, including scaling and centring our predictors, to standardize our data and improve its stability. We used a `25/75` split of the testing and training as is standard when developing a K-Nearest-Neighbour classification model. \n",
    "\n",
    "The confusion matrix of our model shows that our model is very accurate when using the testing data, which in turn shows that our model will be accurate with unseen data. Our overall accuracy is `85.5%`, the true positive rate is `86.4%` and the true negative rate is `82.4%`. These percentage values indicate that our model accurately separates flying from terrestrial birds, demonstrating that our expected outcome holds. \n",
    "\n",
    "### Impact of our findings\n",
    "The findings of this study are very helpful for determining bird classification as flying or terrestrial based on bird fossils. The characteristics of bird bones allow scientists and archaeologists to identify different bird classifications when excavating different sites. Understanding the species that are or were present in certain locations allows scientists to understand the past and present characteristics of that area’s habitat. Our group’s model offers a way for scientists to quickly and accurately predict the species or type of bird based on fossil and bone characteristics. \n",
    "\n",
    "While our dataset only looks at a limited number of observations, this model can still provide a benchmark for researchers in the future to accurately and easily classify birds by type given their bone structure.\n",
    "\n",
    "### Future questions related to our study\n",
    "The results of our study only demonstrate a very limited example of how classification models can be used to study bird bone characteristics when identifying species based on fossils. Limitations of our study include the size of our dataset, which only includes 420 bird fossils, that we are only focusing on the length of 5 bones out of a bird's entire skeleton, and that we are limiting our study of bone characteristics to the length of the wing and leg bones. \n",
    "\n",
    "Future studies and models should look at the impact of the ratio between the wing and leg length and bird body mass, as well as other bone characteristics such as diameter or density as these metrics can help to more accurately differentiate between samples. Future models could also consider how the length of each bone, instead of the total length, can be used to help differentiate between different species, offering an extension of our study that classifies birds as flying or terrestrial birds. Different maximum and minimum lengths of individual bones, such as an ulna or humerus bone length, can be compared to the total wing or leg length to determine done positioning, a factor that is unique to different species of birds (Bochenski & Bochenski Jun., 1992, p. 131). \n"
   ]
  },
  {
   "cell_type": "markdown",
   "id": "1383b243-a9d4-4403-b223-e20f3d1d573e",
   "metadata": {},
   "source": [
    "## Citations\n",
    "### References:\n",
    "1. Aerial, terrestrial and arboreal birds. (n.d.). Bird Spot. https://www.birdspot.co.uk/identifying-birds/aerial-terrestrial-and-arboreal-birds\n",
    "2. Birds' bones and living habits. (n.d.). Kaggle. https://www.kaggle.com/datasets/zhangjuefei/birds-bones-and-living-habits\n",
    "3. Bochenski, Z., & Bochenski Jun., Z. (1992). Correlation between the wing length of living birds and measurements of their bones. Belgian Journal of Zoology, 122(1), 123-132. https://biblio.naturalsciences.be/associated_publications/bjz/122-1/bjz_122_bochenski_123-132.pdf\n",
    "4. Nudds, R. L. (2007). Wing-Bone length allometry in birds. Journal of Avian Biology, 38(4), 515-519. https://www.jstor.org/stable/30244826\n",
    "5. Peng, T. T., Trevor Campbell, and Melissa Lee Foreword by Roger. (n.d.).6.8.3 Forward selection in R | Data Science. In datasciencebook.ca. Retrieved December 7, 2022, from https://datasciencebook.ca/intro.html"
   ]
  }
 ],
 "metadata": {
  "kernelspec": {
   "display_name": "R",
   "language": "R",
   "name": "ir"
  },
  "language_info": {
   "codemirror_mode": "r",
   "file_extension": ".r",
   "mimetype": "text/x-r-source",
   "name": "R",
   "pygments_lexer": "r",
   "version": "4.1.3"
  }
 },
 "nbformat": 4,
 "nbformat_minor": 5
}
